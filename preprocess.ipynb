{
 "cells": [
  {
   "cell_type": "code",
   "execution_count": 1,
   "metadata": {},
   "outputs": [],
   "source": [
    "import pandas as pd\n",
    "import numpy as np"
   ]
  },
  {
   "cell_type": "code",
   "execution_count": 2,
   "metadata": {},
   "outputs": [],
   "source": [
    "cat_dict = {1.0: 'เรียกรับสินบน ให้/ขอให้ หรือรับว่าจะให้ทรัพย์สินหรือประโยชน์อื่นใดแก่เจ้าหน้าที่ของรัฐ',\n",
    "            2.0: 'จัดซื้อจัดจ้าง',\n",
    "            3.1: 'ยักยอก/เบียดบังเงินหรือทรัพย์สินของทางราชการ',\n",
    "            3.2: 'ออกเอกสารสิทธิ',\n",
    "            3.3: 'การบริหารงานบุคคล (การบรรจุ/แต่งตั้ง/เลื่อนตำแหน่ง/โยกย้าย/ลงโทษวินัย)',\n",
    "            3.4: 'ทุจริตในการจัดทำงบประมาณ/โครงการ/เบิกจ่ายเงินในโครงการอันเป็นเท็จ',\n",
    "            3.5: 'ปฏิบัติหรือละเว้นการปฏิบัติหน้าที่โดยมิชอบหรือโดยทุจริต',\n",
    "            4.0: 'การขัดกันระหว่างประโยชน์ส่วนบุคคลและประโยชน์ส่วนรวม',\n",
    "            5.0: 'ร่ำรวยผิดปกติ',\n",
    "            6.0: 'ฝ่าฝืนหรือไม่ปฏิบัติตามมาตรฐานทางจริยธรรมอย่างร้ายแรง'}"
   ]
  },
  {
   "cell_type": "code",
   "execution_count": 3,
   "metadata": {},
   "outputs": [
    {
     "data": {
      "text/html": [
       "<div>\n",
       "<style scoped>\n",
       "    .dataframe tbody tr th:only-of-type {\n",
       "        vertical-align: middle;\n",
       "    }\n",
       "\n",
       "    .dataframe tbody tr th {\n",
       "        vertical-align: top;\n",
       "    }\n",
       "\n",
       "    .dataframe thead th {\n",
       "        text-align: right;\n",
       "    }\n",
       "</style>\n",
       "<table border=\"1\" class=\"dataframe\">\n",
       "  <thead>\n",
       "    <tr style=\"text-align: right;\">\n",
       "      <th></th>\n",
       "      <th>ข่าว</th>\n",
       "      <th>ประเภท</th>\n",
       "    </tr>\n",
       "  </thead>\n",
       "  <tbody>\n",
       "    <tr>\n",
       "      <th>0</th>\n",
       "      <td>‘บีทีเอส’ ร่อนเอกสารข่าวโต้ ‘รฟม.’ หลังประกาศใ...</td>\n",
       "      <td>1.0</td>\n",
       "    </tr>\n",
       "    <tr>\n",
       "      <th>1</th>\n",
       "      <td>ปฏิบัติการหมาเฝ้าบ้าน อยากเที่ยวทะเล ไม่ต้องรอ...</td>\n",
       "      <td>2.0</td>\n",
       "    </tr>\n",
       "    <tr>\n",
       "      <th>2</th>\n",
       "      <td>ชาวต้องแฉเมืองตรังเขาส่งมาให้แอดดูว่าเห็นรถยนต...</td>\n",
       "      <td>3.1</td>\n",
       "    </tr>\n",
       "    <tr>\n",
       "      <th>3</th>\n",
       "      <td>อาคารคอนกรีตเสริมเหล็ก 7 ชั้น ขึ้นเป็นโครงสร้า...</td>\n",
       "      <td>3.2</td>\n",
       "    </tr>\n",
       "    <tr>\n",
       "      <th>4</th>\n",
       "      <td>ลงพื้นที่ติดตามแนวทางการดำเนินโครงการ “ปรับแหล...</td>\n",
       "      <td>3.3</td>\n",
       "    </tr>\n",
       "  </tbody>\n",
       "</table>\n",
       "</div>"
      ],
      "text/plain": [
       "                                                ข่าว  ประเภท\n",
       "0  ‘บีทีเอส’ ร่อนเอกสารข่าวโต้ ‘รฟม.’ หลังประกาศใ...     1.0\n",
       "1  ปฏิบัติการหมาเฝ้าบ้าน อยากเที่ยวทะเล ไม่ต้องรอ...     2.0\n",
       "2  ชาวต้องแฉเมืองตรังเขาส่งมาให้แอดดูว่าเห็นรถยนต...     3.1\n",
       "3  อาคารคอนกรีตเสริมเหล็ก 7 ชั้น ขึ้นเป็นโครงสร้า...     3.2\n",
       "4  ลงพื้นที่ติดตามแนวทางการดำเนินโครงการ “ปรับแหล...     3.3"
      ]
     },
     "execution_count": 3,
     "metadata": {},
     "output_type": "execute_result"
    }
   ],
   "source": [
    "data = pd.read_excel('./Mock2.xlsx')\n",
    "data.head()"
   ]
  },
  {
   "cell_type": "code",
   "execution_count": 4,
   "metadata": {},
   "outputs": [],
   "source": [
    "data['ประเภท'] = data['ประเภท'].astype(float).map(cat_dict)"
   ]
  },
  {
   "cell_type": "code",
   "execution_count": 6,
   "metadata": {},
   "outputs": [],
   "source": [
    "data.to_excel('./Mock2.xlsx', index=False)"
   ]
  }
 ],
 "metadata": {
  "kernelspec": {
   "display_name": "Python 3",
   "language": "python",
   "name": "python3"
  },
  "language_info": {
   "codemirror_mode": {
    "name": "ipython",
    "version": 3
   },
   "file_extension": ".py",
   "mimetype": "text/x-python",
   "name": "python",
   "nbconvert_exporter": "python",
   "pygments_lexer": "ipython3",
   "version": "3.12.4"
  }
 },
 "nbformat": 4,
 "nbformat_minor": 2
}
