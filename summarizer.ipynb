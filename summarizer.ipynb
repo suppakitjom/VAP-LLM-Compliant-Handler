{
 "cells": [
  {
   "cell_type": "code",
   "execution_count": 4,
   "metadata": {},
   "outputs": [],
   "source": [
    "import os\n",
    "from config import LANGCHAIN_API_KEY, OPENAI_API_KEY, GEMINI_API_KEY, GOOGLE_API_KEY\n",
    "os.environ[\"LANGCHAIN_TRACING_V2\"] = \"true\"\n",
    "os.environ[\"LANGCHAIN_API_KEY\"] = LANGCHAIN_API_KEY\n",
    "os.environ[\"OPENAI_API_KEY\"] = OPENAI_API_KEY"
   ]
  },
  {
   "cell_type": "code",
   "execution_count": 5,
   "metadata": {},
   "outputs": [],
   "source": [
    "from langchain_openai import ChatOpenAI\n",
    "model = ChatOpenAI(model=\"gpt-4o-mini\")"
   ]
  },
  {
   "cell_type": "code",
   "execution_count": 36,
   "metadata": {},
   "outputs": [],
   "source": [
    "from typing import Optional, List\n",
    "from langchain_core.pydantic_v1 import BaseModel, Field\n",
    "\n",
    "class Summarizer(BaseModel):\n",
    "    '''\n",
    "    Summary of Compliant\n",
    "    '''\n",
    "    Summary: str = Field(description=\"the summary, be concise\")\n",
    "    Perpetrator: Optional[List[str]] = Field(description=\"The person(people) or/and organization(s) being accused\")\n",
    "    Action: Optional[str] = Field(description=\"the action\")\n",
    "    Where: Optional[str] = Field(description=\"province, district, or subdistrict\")\n",
    "    Amount: Optional[str] = Field(description=\"the amount of money, if there is any involved\")\n",
    "    \n",
    "    def __str__(self):\n",
    "        return f\"Summary: {self.Summary}\\nPerpetrator: {self.Perpetrator}\\nAction: {self.Action}\\nWhere: {self.Where}\\nAmount: {self.Amount}\"\n",
    "\n",
    "structured_model = model.with_structured_output(Summarizer)\n",
    "\n",
    "compliant = '''\n",
    "\"ยุทธพงศ์\" แฉ \"ทร.\" ตั้งงบซื้อยูเอวี แพงเกินราคาพันล้าน ส่อไม่โปร่งใส นายยุทธพงศ์ จรัสเสถียร ส.ส.มหาสารคาม พรรคเพื่อไทย อภิปรายต่อที่ประชุม วาระพิจารณาร่างพระราชบัญญัติ (พ.ร.บ.) งบประมาณรายจ่ายประจำปีงบประมาณ พ.ศ.2566 วงเงิน 3.185 ล้านล้านบาท วาระแรก เป็นวันสาม โดยเปิดประเด็นกับกระทรวงการคลังต่อการเปิดประมูลโครงการท่อส่งน้ำในเขตพัฒนาเศรษฐกิจพิเศษ (อีอีซี) ซึ่งย้ำถึงการเปิดประมูลที่ส่อว่าไม่โปร่งใส ขัดต่อการประกาศวิสัยทัศน์ของหน่วยงาน ทั้งนี้ในกลางเดือนกรกฎหาคม หากพล.อ.ประยุทธ์ จันทร์โอชา นายกรัฐมนตรีและรมว.กลาโหม ฐานะประธานอีอีซี ไม่ทำให้โปร่งใส เกิดประโยชน์ต่อแผ่นดิน  จะถูกยื่นอภิปรายไม่ไว้วางใจ รวมถึงนายอาคม เติมพิทยาไพสิฐ รมว.คลัง ฐานะกรรมการที่ราชพัสดุ และนายสันติ พร้อมพัฒน์ รมช.คลังที่รับมอบอำนาจจากรมว.คลังให้เป็นกรรมการที่ราชพัสดุ แต่ก่อนอภิปรายไม่ไว้วางใจ ตนจะยื่นเรื่องต่อคณะกรรมการป้องกันและปราบปรามการทุจริตแห่งชาติ  (ป.ป.ช.)  เพื่อให้สอบกรรมการที่ราชพัสดุ จำนวน 6 คน ที่ยกเลิกการประมูลในครั้งแรก ทำให้บริษัทอีสวอเตอร์เสียสิทธิ์\n",
    "'''\n",
    "\n",
    "result = structured_model.invoke(compliant,temperature=2)\n",
    "print(result)      "
   ]
  }
 ],
 "metadata": {
  "kernelspec": {
   "display_name": "vap",
   "language": "python",
   "name": "python3"
  },
  "language_info": {
   "codemirror_mode": {
    "name": "ipython",
    "version": 3
   },
   "file_extension": ".py",
   "mimetype": "text/x-python",
   "name": "python",
   "nbconvert_exporter": "python",
   "pygments_lexer": "ipython3",
   "version": "3.12.4"
  }
 },
 "nbformat": 4,
 "nbformat_minor": 2
}
