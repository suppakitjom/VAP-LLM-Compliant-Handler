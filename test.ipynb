{
 "cells": [
  {
   "cell_type": "code",
   "execution_count": 11,
   "metadata": {},
   "outputs": [],
   "source": [
    "import os\n",
    "from config import LANGCHAIN_API_KEY, OPENAI_API_KEY, GEMINI_API_KEY, GOOGLE_API_KEY\n",
    "os.environ[\"LANGCHAIN_TRACING_V2\"] = \"true\"\n",
    "os.environ[\"LANGCHAIN_API_KEY\"] = LANGCHAIN_API_KEY\n",
    "os.environ[\"OPENAI_API_KEY\"] = OPENAI_API_KEY\n",
    "os.environ[\"GEMINI_API_KEY\"] = GEMINI_API_KEY\n",
    "os.environ[\"GOOGLE_API_KEY\"] = GOOGLE_API_KEY"
   ]
  },
  {
   "cell_type": "code",
   "execution_count": 13,
   "metadata": {},
   "outputs": [],
   "source": [
    "from langchain_openai import ChatOpenAI\n",
    "model = ChatOpenAI(model=\"gpt-4o-mini\")"
   ]
  },
  {
   "cell_type": "code",
   "execution_count": null,
   "metadata": {},
   "outputs": [],
   "source": [
    "from langchain_google_genai import ChatGoogleGenerativeAI\n",
    "model = ChatGoogleGenerativeAI(model=\"gemini-1.5-flash\")"
   ]
  },
  {
   "cell_type": "code",
   "execution_count": null,
   "metadata": {},
   "outputs": [],
   "source": [
    "from langchain_core.messages import HumanMessage, SystemMessage\n",
    "from langchain_core.output_parsers import StrOutputParser\n",
    "from langchain_core.prompts import ChatPromptTemplate\n",
    "\n",
    "messages = [\n",
    "    SystemMessage(content=\"Translate the following from English into Italian\"),\n",
    "    HumanMessage(content=\"hello, how are you?\"),\n",
    "]\n",
    "\n",
    "system_template = \"Translate the following into {language}:\"\n",
    "prompt_template = ChatPromptTemplate.from_messages(\n",
    "    [(\"system\", system_template), (\"user\", \"{text}\")]\n",
    ")\n",
    "\n",
    "chain = prompt_template | model | StrOutputParser()"
   ]
  },
  {
   "cell_type": "code",
   "execution_count": null,
   "metadata": {},
   "outputs": [],
   "source": [
    "chain.invoke({\"language\": \"thai\", \"text\": \"hi\"})"
   ]
  },
  {
   "cell_type": "code",
   "execution_count": 14,
   "metadata": {},
   "outputs": [
    {
     "name": "stdout",
     "output_type": "stream",
     "text": [
      "Who=['จอม', 'นีโน่'] What='ทำอาหาร' Where='ในครัว' Why='เพราะว่าพวกเขาหิว'\n"
     ]
    }
   ],
   "source": [
    "from typing import Optional, List\n",
    "from langchain_core.pydantic_v1 import BaseModel, Field\n",
    "\n",
    "class Summarizer(BaseModel):\n",
    "    Who: Optional[List[str]] = Field(description=\"the perpetrator(s)\")\n",
    "    What: str = Field(description=\"the action\")\n",
    "    Where: Optional[str] = Field(description=\"the location\")\n",
    "    Why: Optional[str] = Field(description=\"the reason\")\n",
    "\n",
    "structured_model = model.with_structured_output(Summarizer)\n",
    "\n",
    "result = structured_model.invoke('จอมและนีโน่กำลังทำอาหารในครัวเพราะว่าพวกเขาหิว')\n",
    "print(result)       "
   ]
  },
  {
   "cell_type": "code",
   "execution_count": 4,
   "metadata": {},
   "outputs": [],
   "source": [
    "cat_dict = {1.0: 'เรียกรับสินบน ให้/ขอให้ หรือรับว่าจะให้ทรัพย์สินหรือประโยชน์อื่นใดแก่เจ้าหน้าที่ของรัฐ',\n",
    "            2.0: 'จัดซื้อจัดจ้าง',\n",
    "            3.1: 'ยักยอก/เบียดบังเงินหรือทรัพย์สินของทางราชการ',\n",
    "            3.2: 'ออกเอกสารสิทธิ',\n",
    "            3.3: 'การบริหารงานบุคคล (การบรรจุ/แต่งตั้ง/เลื่อนตำแหน่ง/โยกย้าย/ลงโทษวินัย)',\n",
    "            3.4: 'ทุจริตในการจัดทำงบประมาณ/โครงการ/เบิกจ่ายเงินในโครงการอันเป็นเท็จ',\n",
    "            3.5: 'ปฏิบัติหรือละเว้นการปฏิบัติหน้าที่โดยมิชอบหรือโดยทุจริต',\n",
    "            4.0: 'การขัดกันระหว่างประโยชน์ส่วนบุคคลและประโยชน์ส่วนรวม',\n",
    "            5.0: 'ร่ำรวยผิดปกติ',\n",
    "            6.0: 'ฝ่าฝืนหรือไม่ปฏิบัติตามมาตรฐานทางจริยธรรมอย่างร้ายแรง'}"
   ]
  },
  {
   "cell_type": "code",
   "execution_count": 13,
   "metadata": {},
   "outputs": [
    {
     "data": {
      "text/html": [
       "<div>\n",
       "<style scoped>\n",
       "    .dataframe tbody tr th:only-of-type {\n",
       "        vertical-align: middle;\n",
       "    }\n",
       "\n",
       "    .dataframe tbody tr th {\n",
       "        vertical-align: top;\n",
       "    }\n",
       "\n",
       "    .dataframe thead th {\n",
       "        text-align: right;\n",
       "    }\n",
       "</style>\n",
       "<table border=\"1\" class=\"dataframe\">\n",
       "  <thead>\n",
       "    <tr style=\"text-align: right;\">\n",
       "      <th></th>\n",
       "      <th>Accusation Example</th>\n",
       "      <th>Headers</th>\n",
       "      <th>ฐานความผิด</th>\n",
       "    </tr>\n",
       "  </thead>\n",
       "  <tbody>\n",
       "    <tr>\n",
       "      <th>0</th>\n",
       "      <td>วันที่ 17 สิงหาคม 2567\\n\\nเรื่อง ขอร้องเรียนเก...</td>\n",
       "      <td>โครงการก่อสร้างบ้านพักสนามบินสุราษฎร์ มูลค่ากว...</td>\n",
       "      <td>จัดซื้อจัดจ้าง</td>\n",
       "    </tr>\n",
       "    <tr>\n",
       "      <th>1</th>\n",
       "      <td>วันที่ 17 สิงหาคม 2567\\n\\nเรื่อง แจ้งเรื่องพฤต...</td>\n",
       "      <td>พบเจ้าหน้าที่ข้าราชการแห่งหนึ่งในพื้นที่จังหวั...</td>\n",
       "      <td>เรียกรับสินบน ให้/ขอให้ หรือรับว่าจะให้ทรัพย์ส...</td>\n",
       "    </tr>\n",
       "    <tr>\n",
       "      <th>2</th>\n",
       "      <td>\\n\\nเรื่อง ขอให้ตรวจสอบกิจกรรมส่งมอบกระเป๋ายา ...</td>\n",
       "      <td>\"ขอให้ตรวจสอบกิจกรรมส่งมอบกระเป๋ายา อสม. ในเขต...</td>\n",
       "      <td>เรียกรับสินบน ให้/ขอให้ หรือรับว่าจะให้ทรัพย์ส...</td>\n",
       "    </tr>\n",
       "    <tr>\n",
       "      <th>3</th>\n",
       "      <td>เรื่อง ขอให้ตรวจสอบและเร่งดำเนินการซ่อมแซมถนนค...</td>\n",
       "      <td>ถนน 3 ล้าน 3 ปีพัง ทิ้งไว้เกือบปีไร้วี่แววซ่อม...</td>\n",
       "      <td>ทุจริตในการจัดทำงบประมาณ/โครงการ/เบิกจ่ายเงินใ...</td>\n",
       "    </tr>\n",
       "    <tr>\n",
       "      <th>4</th>\n",
       "      <td>เรื่อง ขอให้ตรวจสอบการดำเนินการโครงการจัดซื้อพ...</td>\n",
       "      <td>\"โครงการจัดซื้อพร้อมติดตั้งโคมไฟถนน จำนวน 11 โ...</td>\n",
       "      <td>ปฏิบัติหรือละเว้นการปฏิบัติหน้าที่โดยมิชอบหรือ...</td>\n",
       "    </tr>\n",
       "    <tr>\n",
       "      <th>5</th>\n",
       "      <td>เรื่อง ขอให้ตรวจสอบโครงการพัฒนาน้ำบาดาลเพื่อกา...</td>\n",
       "      <td>โครงการพัฒนาน้ำบาดาลเพื่อการเกษตรแปลงใหญ่ ผลงา...</td>\n",
       "      <td>การขัดกันระหว่างประโยชน์ส่วนบุคคลและประโยชน์ส่...</td>\n",
       "    </tr>\n",
       "    <tr>\n",
       "      <th>6</th>\n",
       "      <td>เรื่อง ขอให้ตรวจสอบและเร่งแก้ไขปัญหาถนนคอนกรีต...</td>\n",
       "      <td>ถนนคอนกรีตมูลค่า 6,352,200 บาท ระยะทาง 2.35 กิ...</td>\n",
       "      <td>ร่ำรวยผิดปกติ</td>\n",
       "    </tr>\n",
       "    <tr>\n",
       "      <th>7</th>\n",
       "      <td>เรื่อง ขอให้ตรวจสอบการใช้รถยนต์ของสถานีตำรวจภู...</td>\n",
       "      <td>ชาวต้องแฉเมืองตรังเขาส่งมาให้แอดดูว่าเห็นรถยนต...</td>\n",
       "      <td>ยักยอก/เบียดบังเงินหรือทรัพย์สินของทางราชการ</td>\n",
       "    </tr>\n",
       "    <tr>\n",
       "      <th>8</th>\n",
       "      <td>เรื่อง ขอให้ตรวจสอบการดำเนินโครงการขยายท่อน้ำป...</td>\n",
       "      <td>\"การร้องเรียนทางสื่อออนไลน์ว่ามีการจัดทำโครงกา...</td>\n",
       "      <td>ออกเอกสารสิทธิ</td>\n",
       "    </tr>\n",
       "    <tr>\n",
       "      <th>9</th>\n",
       "      <td>เรื่อง ขอให้ติดตามและตรวจสอบแนวทางการดำเนินโคร...</td>\n",
       "      <td>ลงพื้นที่ติดตามแนวทางการดำเนินโครงการ “ปรับแหล...</td>\n",
       "      <td>การบริหารงานบุคคล (การบรรจุ/แต่งตั้ง/เลื่อนตำแ...</td>\n",
       "    </tr>\n",
       "  </tbody>\n",
       "</table>\n",
       "</div>"
      ],
      "text/plain": [
       "                                  Accusation Example  \\\n",
       "0  วันที่ 17 สิงหาคม 2567\\n\\nเรื่อง ขอร้องเรียนเก...   \n",
       "1  วันที่ 17 สิงหาคม 2567\\n\\nเรื่อง แจ้งเรื่องพฤต...   \n",
       "2  \\n\\nเรื่อง ขอให้ตรวจสอบกิจกรรมส่งมอบกระเป๋ายา ...   \n",
       "3  เรื่อง ขอให้ตรวจสอบและเร่งดำเนินการซ่อมแซมถนนค...   \n",
       "4  เรื่อง ขอให้ตรวจสอบการดำเนินการโครงการจัดซื้อพ...   \n",
       "5  เรื่อง ขอให้ตรวจสอบโครงการพัฒนาน้ำบาดาลเพื่อกา...   \n",
       "6  เรื่อง ขอให้ตรวจสอบและเร่งแก้ไขปัญหาถนนคอนกรีต...   \n",
       "7  เรื่อง ขอให้ตรวจสอบการใช้รถยนต์ของสถานีตำรวจภู...   \n",
       "8  เรื่อง ขอให้ตรวจสอบการดำเนินโครงการขยายท่อน้ำป...   \n",
       "9  เรื่อง ขอให้ติดตามและตรวจสอบแนวทางการดำเนินโคร...   \n",
       "\n",
       "                                             Headers  \\\n",
       "0  โครงการก่อสร้างบ้านพักสนามบินสุราษฎร์ มูลค่ากว...   \n",
       "1  พบเจ้าหน้าที่ข้าราชการแห่งหนึ่งในพื้นที่จังหวั...   \n",
       "2  \"ขอให้ตรวจสอบกิจกรรมส่งมอบกระเป๋ายา อสม. ในเขต...   \n",
       "3  ถนน 3 ล้าน 3 ปีพัง ทิ้งไว้เกือบปีไร้วี่แววซ่อม...   \n",
       "4  \"โครงการจัดซื้อพร้อมติดตั้งโคมไฟถนน จำนวน 11 โ...   \n",
       "5  โครงการพัฒนาน้ำบาดาลเพื่อการเกษตรแปลงใหญ่ ผลงา...   \n",
       "6  ถนนคอนกรีตมูลค่า 6,352,200 บาท ระยะทาง 2.35 กิ...   \n",
       "7  ชาวต้องแฉเมืองตรังเขาส่งมาให้แอดดูว่าเห็นรถยนต...   \n",
       "8  \"การร้องเรียนทางสื่อออนไลน์ว่ามีการจัดทำโครงกา...   \n",
       "9  ลงพื้นที่ติดตามแนวทางการดำเนินโครงการ “ปรับแหล...   \n",
       "\n",
       "                                          ฐานความผิด  \n",
       "0                                     จัดซื้อจัดจ้าง  \n",
       "1  เรียกรับสินบน ให้/ขอให้ หรือรับว่าจะให้ทรัพย์ส...  \n",
       "2  เรียกรับสินบน ให้/ขอให้ หรือรับว่าจะให้ทรัพย์ส...  \n",
       "3  ทุจริตในการจัดทำงบประมาณ/โครงการ/เบิกจ่ายเงินใ...  \n",
       "4  ปฏิบัติหรือละเว้นการปฏิบัติหน้าที่โดยมิชอบหรือ...  \n",
       "5  การขัดกันระหว่างประโยชน์ส่วนบุคคลและประโยชน์ส่...  \n",
       "6                                      ร่ำรวยผิดปกติ  \n",
       "7       ยักยอก/เบียดบังเงินหรือทรัพย์สินของทางราชการ  \n",
       "8                                     ออกเอกสารสิทธิ  \n",
       "9  การบริหารงานบุคคล (การบรรจุ/แต่งตั้ง/เลื่อนตำแ...  "
      ]
     },
     "execution_count": 13,
     "metadata": {},
     "output_type": "execute_result"
    }
   ],
   "source": [
    "import pandas as pd\n",
    "data = pd.read_excel('Accusation Mock.xlsx',sheet_name='Sheet1')\n",
    "data"
   ]
  }
 ],
 "metadata": {
  "kernelspec": {
   "display_name": "vap",
   "language": "python",
   "name": "python3"
  },
  "language_info": {
   "codemirror_mode": {
    "name": "ipython",
    "version": 3
   },
   "file_extension": ".py",
   "mimetype": "text/x-python",
   "name": "python",
   "nbconvert_exporter": "python",
   "pygments_lexer": "ipython3",
   "version": "3.12.4"
  }
 },
 "nbformat": 4,
 "nbformat_minor": 2
}
